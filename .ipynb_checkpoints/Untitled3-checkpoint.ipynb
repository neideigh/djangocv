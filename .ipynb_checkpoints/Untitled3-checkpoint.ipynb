{
 "cells": [
  {
   "cell_type": "code",
   "execution_count": null,
   "metadata": {},
   "outputs": [],
   "source": [
    "import numpy as np\n",
    "import cv2\n",
    "\n",
    "im = cv2.imread('bigcartel-2.jpg')\n",
    "row, col = im.shape[:2]\n",
    "bottom = im[row-2:row, 0:col]\n",
    "mean = cv2.mean(bottom)[0]\n",
    "\n",
    "bordersize = 10\n",
    "border = cv2.copyMakeBorder(\n",
    "    im,\n",
    "    top=bordersize,\n",
    "    bottom=bordersize,\n",
    "    left=bordersize,\n",
    "    right=bordersize,\n",
    "    borderType=cv2.BORDER_CONSTANT,\n",
    "    value=[mean, mean, mean]\n",
    ")\n",
    "\n",
    "cv2.imshow('image', im)\n",
    "cv2.imshow('bottom', bottom)\n",
    "cv2.imshow('border', border)\n",
    "cv2.waitKey(0)\n",
    "cv2.destroyAllWindows()"
   ]
  }
 ],
 "metadata": {
  "kernelspec": {
   "display_name": "Python 3",
   "language": "python",
   "name": "python3"
  },
  "language_info": {
   "codemirror_mode": {
    "name": "ipython",
    "version": 3
   },
   "file_extension": ".py",
   "mimetype": "text/x-python",
   "name": "python",
   "nbconvert_exporter": "python",
   "pygments_lexer": "ipython3",
   "version": "3.8.5"
  }
 },
 "nbformat": 4,
 "nbformat_minor": 4
}
